{
 "cells": [
  {
   "cell_type": "markdown",
   "metadata": {
    "collapsed": true
   },
   "source": [
    "# Loading modules"
   ]
  },
  {
   "cell_type": "code",
   "execution_count": 7,
   "metadata": {},
   "outputs": [],
   "source": [
    "import numpy as np\n",
    "from keras.preprocessing.text import Tokenizer\n",
    "from keras.preprocessing.sequence import pad_sequences\n",
    "from keras.utils import to_categorical\n",
    "from keras.layers import Dense, Input, Flatten\n",
    "from keras.layers import Conv1D, MaxPooling1D, Embedding\n",
    "from keras.models import Model"
   ]
  },
  {
   "cell_type": "markdown",
   "metadata": {},
   "source": [
    "# Training model"
   ]
  },
  {
   "cell_type": "code",
   "execution_count": 8,
   "metadata": {},
   "outputs": [],
   "source": [
    "BASE_DIR = '.'\n",
    "GLOVE_DIR = BASE_DIR + '/glove.6B/'\n",
    "TEXT_DATA_DIR = BASE_DIR + '/20_newsgroup/'\n",
    "MAX_SEQUENCE_LENGTH = 1000\n",
    "MAX_NB_WORDS = 20000\n",
    "EMBEDDING_DIM = 200\n",
    "VALIDATION_SPLIT = 0.2\n",
    "BATCH_SIZE = 128"
   ]
  },
  {
   "cell_type": "markdown",
   "metadata": {},
   "source": [
    "# Training word embeddings\n",
    "## Download text8 corpus"
   ]
  },
  {
   "cell_type": "code",
   "execution_count": 15,
   "metadata": {},
   "outputs": [],
   "source": [
    "import os\n",
    "import zipfile\n",
    "from keras.utils import get_file\n",
    "\n",
    "\n",
    "def maybe_download(url):\n",
    "    \"\"\"\n",
    "    Download a file if not present.\n",
    "    \"\"\"\n",
    "    filename = url.split('/')[-1]\n",
    "    path = get_file(filename, url)\n",
    "    return path\n",
    "    \n",
    "\n",
    "def unzip(zip_filename):\n",
    "    \"\"\"\n",
    "    Extract a file from the zipfile\n",
    "    \"\"\"\n",
    "    with zipfile.ZipFile(zip_filename) as f:\n",
    "        for filename in f.namelist():\n",
    "            dirname = os.path.dirname(filename)\n",
    "            f.extract(filename, dirname)\n",
    "            return os.path.abspath(filename)\n",
    "            \n",
    "\n",
    "url = 'http://mattmahoney.net/dc/text8.zip'\n",
    "filename = maybe_download(url)\n",
    "text_file = unzip(filename)"
   ]
  },
  {
   "cell_type": "markdown",
   "metadata": {},
   "source": [
    "## Training word2vec"
   ]
  },
  {
   "cell_type": "code",
   "execution_count": 16,
   "metadata": {},
   "outputs": [
    {
     "name": "stdout",
     "output_type": "stream",
     "text": [
      "{8: 'text8.ws8.txt', 1: 'text8.ws1.txt', 2: 'text8.ws2.txt', 4: 'text8.ws4.txt', 16: 'text8.ws16.txt'}\n"
     ]
    }
   ],
   "source": [
    "from gensim.models import word2vec\n",
    "\n",
    "sentences = word2vec.Text8Corpus(text_file)\n",
    "window_sizes = [1, 2, 4, 8, 16]\n",
    "model_names = {}\n",
    "for window_size in window_sizes:\n",
    "    out_model = \"text8.ws{}.txt\".format(window_size)\n",
    "    model_names[window_size] = out_model\n",
    "    if os.path.exists(out_model):\n",
    "        continue\n",
    "    print('Starting training with window size {}...'.format(window_size))\n",
    "    model = word2vec.Word2Vec(sentences, size=200, sg=1, window=window_size, workers=multiprocessing.cpu_count())\n",
    "    model.wv.save_word2vec_format(out_model)\n",
    "    # model.save(out_model)\n",
    "    print('Finished')\n",
    "print(model_names)"
   ]
  },
  {
   "cell_type": "markdown",
   "metadata": {},
   "source": [
    "# Preprocessing text dataset"
   ]
  },
  {
   "cell_type": "code",
   "execution_count": 9,
   "metadata": {},
   "outputs": [
    {
     "name": "stdout",
     "output_type": "stream",
     "text": [
      "Load text dataset\n"
     ]
    },
    {
     "name": "stdout",
     "output_type": "stream",
     "text": [
      "Found 18846 texts.\nProcessing text dataset\n"
     ]
    },
    {
     "name": "stdout",
     "output_type": "stream",
     "text": [
      "Found 172780 unique tokens.\n"
     ]
    },
    {
     "name": "stdout",
     "output_type": "stream",
     "text": [
      "Shape of data tensor: (18846, 1000)\nShape of label tensor: (18846, 20)\n"
     ]
    }
   ],
   "source": [
    "from sklearn.datasets import fetch_20newsgroups\n",
    "\n",
    "print('Load text dataset')\n",
    "newsgroups = fetch_20newsgroups(subset='all')\n",
    "\n",
    "texts = []  # list of text samples                                                                                                                                     \n",
    "labels = []  # list of label ids                                                                                                                                       \n",
    "label_num = len(newsgroups.target_names)  # number of labels                                                                                                           \n",
    "for text, label_id in zip(newsgroups.data, newsgroups.target):\n",
    "    idx = text.find('\\n\\n')  # skip header                                                                                                                             \n",
    "    text = text[idx:]\n",
    "    text = text.strip()      # remove new line                                                                                                                         \n",
    "    texts.append(text)\n",
    "    labels.append(label_id)\n",
    "\n",
    "print('Found %s texts.' % len(texts))\n",
    "\n",
    "print('Processing text dataset')\n",
    "# finally, vectorize the text samples into a 2D integer tensor\n",
    "tokenizer = Tokenizer(num_words=MAX_NB_WORDS)\n",
    "tokenizer.fit_on_texts(texts)\n",
    "sequences = tokenizer.texts_to_sequences(texts)\n",
    "\n",
    "word_index = tokenizer.word_index\n",
    "print('Found %s unique tokens.' % len(word_index))\n",
    "\n",
    "data = pad_sequences(sequences, maxlen=MAX_SEQUENCE_LENGTH)\n",
    "\n",
    "labels = to_categorical(np.asarray(labels))\n",
    "print('Shape of data tensor:', data.shape)\n",
    "print('Shape of label tensor:', labels.shape)\n",
    "\n",
    "# split the data into a training set and a validation set\n",
    "indices = np.arange(data.shape[0])\n",
    "np.random.shuffle(indices)\n",
    "data = data[indices]\n",
    "labels = labels[indices]\n",
    "num_validation_samples = int(VALIDATION_SPLIT * data.shape[0])\n",
    "\n",
    "x_train = data[:-num_validation_samples]\n",
    "y_train = labels[:-num_validation_samples]\n",
    "x_val = data[-num_validation_samples:]\n",
    "y_val = labels[-num_validation_samples:]"
   ]
  },
  {
   "cell_type": "markdown",
   "metadata": {},
   "source": [
    "# Preparing embedding matrix"
   ]
  },
  {
   "cell_type": "markdown",
   "metadata": {},
   "source": [
    "## Indexing word vectors"
   ]
  },
  {
   "cell_type": "code",
   "execution_count": 10,
   "metadata": {},
   "outputs": [],
   "source": [
    "def index_word_vectors(file_path):\n",
    "    print('Indexing word vectors.')\n",
    "    \n",
    "    embeddings_index = {}\n",
    "    with open(file_path) as f:\n",
    "        for line in f:\n",
    "            values = line.split()\n",
    "            word = values[0]\n",
    "            coefs = np.asarray(values[1:], dtype='float32')\n",
    "            embeddings_index[word] = coefs\n",
    "    \n",
    "    print('Found %s word vectors.' % len(embeddings_index))\n",
    "    return embeddings_index"
   ]
  },
  {
   "cell_type": "code",
   "execution_count": 11,
   "metadata": {},
   "outputs": [],
   "source": [
    "def prepare_embedding_matrix(embeddings_index):\n",
    "    print('Preparing embedding matrix.')\n",
    "    \n",
    "    # prepare embedding matrix\n",
    "    num_words = min(MAX_NB_WORDS, len(word_index))\n",
    "    embedding_matrix = np.zeros((num_words, EMBEDDING_DIM))\n",
    "    for word, i in word_index.items():\n",
    "        if i >= MAX_NB_WORDS:\n",
    "            continue\n",
    "        embedding_vector = embeddings_index.get(word)\n",
    "        if embedding_vector is not None:\n",
    "            # words not found in embedding index will be all-zeros.\n",
    "            embedding_matrix[i] = embedding_vector\n",
    "    \n",
    "    return embedding_matrix, num_words"
   ]
  },
  {
   "cell_type": "markdown",
   "metadata": {},
   "source": [
    "# Building model"
   ]
  },
  {
   "cell_type": "code",
   "execution_count": 12,
   "metadata": {},
   "outputs": [],
   "source": [
    "def build_model(embedding_matrix, num_words):\n",
    "    print('Build model.')\n",
    "    # build a 1D convnet with global maxpooling\n",
    "    # load pre-trained word embeddings into an Embedding layer\n",
    "    # note that we set trainable = False so as to keep the embeddings fixed\n",
    "    embedding_layer = Embedding(num_words,\n",
    "                                EMBEDDING_DIM,\n",
    "                                weights=[embedding_matrix],\n",
    "                                input_length=MAX_SEQUENCE_LENGTH,\n",
    "                                trainable=False)\n",
    "    sequence_input = Input(shape=(MAX_SEQUENCE_LENGTH,), dtype='int32')\n",
    "    embedded_sequences = embedding_layer(sequence_input)\n",
    "    x = Conv1D(128, 5, activation='relu')(embedded_sequences)\n",
    "    x = MaxPooling1D(5)(x)\n",
    "    x = Conv1D(128, 5, activation='relu')(x)\n",
    "    x = MaxPooling1D(5)(x)\n",
    "    x = Conv1D(128, 5, activation='relu')(x)\n",
    "    x = MaxPooling1D(35)(x)\n",
    "    x = Flatten()(x)\n",
    "    x = Dense(128, activation='relu')(x)\n",
    "    preds = Dense(label_num, activation='softmax')(x)\n",
    "    \n",
    "    model = Model(sequence_input, preds)\n",
    "    model.compile(loss='categorical_crossentropy', optimizer='adam', metrics=['acc'])\n",
    "    return model"
   ]
  },
  {
   "cell_type": "markdown",
   "metadata": {},
   "source": [
    "# Training model"
   ]
  },
  {
   "cell_type": "code",
   "execution_count": 14,
   "metadata": {},
   "outputs": [
    {
     "name": "stdout",
     "output_type": "stream",
     "text": [
      "Indexing word vectors.\n"
     ]
    },
    {
     "name": "stdout",
     "output_type": "stream",
     "text": [
      "Found 71291 word vectors.\nPreparing embedding matrix.\nBuild model.\n"
     ]
    },
    {
     "name": "stdout",
     "output_type": "stream",
     "text": [
      "Training model: window size 1\n"
     ]
    },
    {
     "name": "stdout",
     "output_type": "stream",
     "text": [
      "Train on 15077 samples, validate on 3769 samples\nEpoch 1/3\n"
     ]
    },
    {
     "name": "stdout",
     "output_type": "stream",
     "text": [
      "313s - loss: 2.6724 - acc: 0.1090 - val_loss: 2.3311 - val_acc: 0.1467\nEpoch 2/3\n"
     ]
    },
    {
     "name": "stdout",
     "output_type": "stream",
     "text": [
      "288s - loss: 2.1965 - acc: 0.2213 - val_loss: 2.0105 - val_acc: 0.3003\nEpoch 3/3\n"
     ]
    },
    {
     "name": "stdout",
     "output_type": "stream",
     "text": [
      "289s - loss: 1.8145 - acc: 0.3431 - val_loss: 1.7069 - val_acc: 0.3929\n"
     ]
    },
    {
     "name": "stdout",
     "output_type": "stream",
     "text": [
      "Indexing word vectors.\n"
     ]
    },
    {
     "name": "stdout",
     "output_type": "stream",
     "text": [
      "Found 71291 word vectors.\nPreparing embedding matrix.\nBuild model.\n"
     ]
    },
    {
     "name": "stdout",
     "output_type": "stream",
     "text": [
      "Training model: window size 2\n"
     ]
    },
    {
     "name": "stdout",
     "output_type": "stream",
     "text": [
      "Train on 15077 samples, validate on 3769 samples\nEpoch 1/3\n"
     ]
    },
    {
     "name": "stdout",
     "output_type": "stream",
     "text": [
      "291s - loss: 2.8147 - acc: 0.0990 - val_loss: 2.4547 - val_acc: 0.1555\nEpoch 2/3\n"
     ]
    },
    {
     "name": "stdout",
     "output_type": "stream",
     "text": [
      "308s - loss: 2.0630 - acc: 0.2669 - val_loss: 1.7964 - val_acc: 0.3569\nEpoch 3/3\n"
     ]
    },
    {
     "name": "stdout",
     "output_type": "stream",
     "text": [
      "294s - loss: 1.6548 - acc: 0.3912 - val_loss: 1.6165 - val_acc: 0.4120\n"
     ]
    },
    {
     "name": "stdout",
     "output_type": "stream",
     "text": [
      "Indexing word vectors.\n"
     ]
    },
    {
     "name": "stdout",
     "output_type": "stream",
     "text": [
      "Found 71291 word vectors.\nPreparing embedding matrix.\nBuild model.\n"
     ]
    },
    {
     "name": "stdout",
     "output_type": "stream",
     "text": [
      "Training model: window size 4\n"
     ]
    },
    {
     "name": "stdout",
     "output_type": "stream",
     "text": [
      "Train on 15077 samples, validate on 3769 samples\nEpoch 1/3\n"
     ]
    },
    {
     "name": "stdout",
     "output_type": "stream",
     "text": [
      "345s - loss: 2.6002 - acc: 0.1222 - val_loss: 2.3344 - val_acc: 0.1592\nEpoch 2/3\n"
     ]
    },
    {
     "name": "stdout",
     "output_type": "stream",
     "text": [
      "322s - loss: 2.0829 - acc: 0.2464 - val_loss: 1.8001 - val_acc: 0.3401\nEpoch 3/3\n"
     ]
    },
    {
     "name": "stdout",
     "output_type": "stream",
     "text": [
      "298s - loss: 1.6512 - acc: 0.3930 - val_loss: 1.5705 - val_acc: 0.4160\n"
     ]
    },
    {
     "name": "stdout",
     "output_type": "stream",
     "text": [
      "Indexing word vectors.\n"
     ]
    },
    {
     "name": "stdout",
     "output_type": "stream",
     "text": [
      "Found 71291 word vectors.\nPreparing embedding matrix.\nBuild model.\n"
     ]
    },
    {
     "name": "stdout",
     "output_type": "stream",
     "text": [
      "Training model: window size 8\n"
     ]
    },
    {
     "name": "stdout",
     "output_type": "stream",
     "text": [
      "Train on 15077 samples, validate on 3769 samples\nEpoch 1/3\n"
     ]
    },
    {
     "name": "stdout",
     "output_type": "stream",
     "text": [
      "299s - loss: 2.6848 - acc: 0.0990 - val_loss: 2.3404 - val_acc: 0.1722\nEpoch 2/3\n"
     ]
    },
    {
     "name": "stdout",
     "output_type": "stream",
     "text": [
      "289s - loss: 2.0618 - acc: 0.2570 - val_loss: 1.7600 - val_acc: 0.3447\nEpoch 3/3\n"
     ]
    },
    {
     "name": "stdout",
     "output_type": "stream",
     "text": [
      "308s - loss: 1.6049 - acc: 0.3994 - val_loss: 1.5201 - val_acc: 0.4346\n"
     ]
    },
    {
     "name": "stdout",
     "output_type": "stream",
     "text": [
      "Indexing word vectors.\n"
     ]
    },
    {
     "name": "stdout",
     "output_type": "stream",
     "text": [
      "Found 71291 word vectors.\nPreparing embedding matrix.\nBuild model.\n"
     ]
    },
    {
     "name": "stdout",
     "output_type": "stream",
     "text": [
      "Training model: window size 16\n"
     ]
    },
    {
     "name": "stdout",
     "output_type": "stream",
     "text": [
      "Train on 15077 samples, validate on 3769 samples\nEpoch 1/3\n"
     ]
    },
    {
     "name": "stdout",
     "output_type": "stream",
     "text": [
      "297s - loss: 2.6362 - acc: 0.1144 - val_loss: 2.2946 - val_acc: 0.1772\nEpoch 2/3\n"
     ]
    },
    {
     "name": "stdout",
     "output_type": "stream",
     "text": [
      "331s - loss: 2.1497 - acc: 0.2223 - val_loss: 1.9222 - val_acc: 0.3011\nEpoch 3/3\n"
     ]
    },
    {
     "name": "stdout",
     "output_type": "stream",
     "text": [
      "288s - loss: 1.6165 - acc: 0.4110 - val_loss: 1.4168 - val_acc: 0.5076\n"
     ]
    }
   ],
   "source": [
    "accuracies = []\n",
    "for window_size in window_sizes:\n",
    "    path = 'text8.ws{}.txt'.format(window_size)\n",
    "    embeddings_index = index_word_vectors(file_path=path)\n",
    "    embedding_matrix, num_words = prepare_embedding_matrix(embeddings_index)\n",
    "    model = build_model(embedding_matrix, num_words)\n",
    "    \n",
    "    print('Training model: window size {}'.format(window_size))\n",
    "    model.fit(x_train, y_train, validation_data=(x_val, y_val), epochs=3, batch_size=BATCH_SIZE, verbose=2)\n",
    "    score, acc = model.evaluate(x_val, y_val, batch_size=BATCH_SIZE, verbose=2)\n",
    "    accuracies.append(acc)"
   ]
  },
  {
   "cell_type": "markdown",
   "metadata": {},
   "source": [
    "# Evaluation"
   ]
  },
  {
   "cell_type": "markdown",
   "metadata": {},
   "source": [
    "## Word similarity\n",
    "### Calculating Spearman's correlation by wordsim353"
   ]
  },
  {
   "cell_type": "code",
   "execution_count": 17,
   "metadata": {},
   "outputs": [
    {
     "name": "stdout",
     "output_type": "stream",
     "text": [
      "0.546604463077\n"
     ]
    },
    {
     "name": "stdout",
     "output_type": "stream",
     "text": [
      "0.62974217854\n"
     ]
    },
    {
     "name": "stdout",
     "output_type": "stream",
     "text": [
      "0.673909870363\n"
     ]
    },
    {
     "name": "stdout",
     "output_type": "stream",
     "text": [
      "0.711368463157\n"
     ]
    },
    {
     "name": "stdout",
     "output_type": "stream",
     "text": [
      "0.716476219727\n"
     ]
    }
   ],
   "source": [
    "import gensim.test\n",
    "from gensim.models import KeyedVectors\n",
    "module_path = gensim.test.__path__[0]\n",
    "spearmans = []\n",
    "for window_size in window_sizes:\n",
    "    model_name = model_names[window_size]\n",
    "    word_vectors = KeyedVectors.load_word2vec_format(model_name)\n",
    "    _, spearman, _ = word_vectors.evaluate_word_pairs(os.path.join(module_path, 'test_data', 'wordsim353.tsv'))\n",
    "    spearmans.append(spearman.correlation)\n",
    "    print(spearman.correlation)"
   ]
  },
  {
   "cell_type": "markdown",
   "metadata": {},
   "source": [
    "### Plotting Spearman's correlation"
   ]
  },
  {
   "cell_type": "code",
   "execution_count": 18,
   "metadata": {},
   "outputs": [
    {
     "data": {
      "image/png": "[encoded data removed]",
      "text/plain": [
       "<matplotlib.figure.Figure at 0x119551240>"
      ]
     },
     "metadata": {},
     "output_type": "display_data"
    }
   ],
   "source": [
    "%matplotlib inline\n",
    "import matplotlib.pyplot as plt\n",
    "\n",
    "plt.plot(window_sizes, spearmans, marker='o')\n",
    "plt.xlabel('Window Size')\n",
    "plt.ylabel('Spearman\\'s Correlation')\n",
    "\n",
    "plt.tight_layout()\n",
    "plt.show()"
   ]
  },
  {
   "cell_type": "markdown",
   "metadata": {},
   "source": [
    "## Plotting classification accuracy"
   ]
  },
  {
   "cell_type": "code",
   "execution_count": 19,
   "metadata": {},
   "outputs": [
    {
     "data": {
      "image/png": "[encoded data removed]",
      "text/plain": [
       "<matplotlib.figure.Figure at 0x11fc52eb8>"
      ]
     },
     "metadata": {},
     "output_type": "display_data"
    }
   ],
   "source": [
    "%matplotlib inline\n",
    "import matplotlib.pyplot as plt\n",
    "\n",
    "plt.plot(window_sizes, accuracies, marker='x')\n",
    "plt.xlabel('Window Size')\n",
    "plt.ylabel('Accuracy')\n",
    "\n",
    "plt.tight_layout()\n",
    "plt.show()"
   ]
  }
 ],
 "metadata": {
  "kernelspec": {
   "display_name": "Python 2",
   "language": "python",
   "name": "python2"
  },
  "language_info": {
   "codemirror_mode": {
    "name": "ipython",
    "version": 2.0
   },
   "file_extension": ".py",
   "mimetype": "text/x-python",
   "name": "python",
   "nbconvert_exporter": "python",
   "pygments_lexer": "ipython2",
   "version": "2.7.6"
  }
 },
 "nbformat": 4,
 "nbformat_minor": 0
}