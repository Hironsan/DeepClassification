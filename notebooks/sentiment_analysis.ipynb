{
 "cells": [
  {
   "cell_type": "markdown",
   "metadata": {},
   "source": [
    "# Creating Corpus"
   ]
  },
  {
   "cell_type": "code",
   "execution_count": 1,
   "metadata": {},
   "outputs": [
    {
     "name": "stderr",
     "output_type": "stream",
     "text": [
      "Using TensorFlow backend.\n"
     ]
    }
   ],
   "source": [
    "import os\n",
    "import zipfile\n",
    "import multiprocessing\n",
    "\n",
    "from gensim.models import word2vec\n",
    "from keras.utils.data_utils import get_file"
   ]
  },
  {
   "cell_type": "markdown",
   "metadata": {},
   "source": [
    "# Downloading the dataset\n",
    "You can download training data and evaluation data."
   ]
  },
  {
   "cell_type": "code",
   "execution_count": 2,
   "metadata": {
    "collapsed": true
   },
   "outputs": [],
   "source": [
    "def maybe_download(url):\n",
    "    \"\"\"\n",
    "    Download a file if not present.\n",
    "    \"\"\"\n",
    "    filename = url.split('/')[-1]\n",
    "    path = get_file(filename, url)\n",
    "    return path\n",
    "    \n",
    "\n",
    "def unzip(zip_filename):\n",
    "    \"\"\"\n",
    "    Extract a file from the zipfile\n",
    "    \"\"\"\n",
    "    with zipfile.ZipFile(zip_filename) as f:\n",
    "        for filename in f.namelist():\n",
    "            dirname = os.path.dirname(filename)\n",
    "            f.extract(filename, dirname)\n",
    "            return os.path.abspath(filename)\n",
    "            \n",
    "\n",
    "url = 'http://mattmahoney.net/dc/text8.zip'\n",
    "filename = maybe_download(url)\n",
    "text_file = unzip(filename)"
   ]
  },
  {
   "cell_type": "markdown",
   "metadata": {},
   "source": [
    "# Training the Model\n",
    "You can read training data from a text file using the word2vec.Text8Corpus class.\n",
    "By default, it assumes that the text file is given.\n",
    "Now, we obtained skip-gram model. Let's train it by calling train_on_batch and passing training examples:"
   ]
  },
  {
   "cell_type": "markdown",
   "metadata": {},
   "source": [
    ""
   ]
  },
  {
   "cell_type": "code",
   "execution_count": 36,
   "metadata": {
    "collapsed": false
   },
   "outputs": [
    {
     "name": "stdout",
     "output_type": "stream",
     "text": [
      "{8: 'text8.ws8.txt', 1: 'text8.ws1.txt', 2: 'text8.ws2.txt', 4: 'text8.ws4.txt', 16: 'text8.ws16.txt'}\n"
     ]
    }
   ],
   "source": [
    "sentences = word2vec.Text8Corpus(text_file)\n",
    "window_sizes = [1, 2, 4, 8, 16]\n",
    "model_names = {}\n",
    "for window_size in window_sizes:\n",
    "    out_model = \"text8.ws{}.txt\".format(window_size)\n",
    "    model_names[window_size] = out_model\n",
    "    if os.path.exists(out_model):\n",
    "        continue\n",
    "    print('Starting training with window size {}...'.format(window_size))\n",
    "    model = word2vec.Word2Vec(sentences, size=200, sg=1, window=window_size, workers=multiprocessing.cpu_count())\n",
    "    model.wv.save_word2vec_format(out_model)\n",
    "    # model.save(out_model)\n",
    "    print('Finished')\n",
    "print(model_names)"
   ]
  },
  {
   "cell_type": "markdown",
   "metadata": {},
   "source": [
    "## Preparing the text data\n",
    "First, we will simply iterate over the folders in which our text samples are stored, and format them into a list of samples. We will also prepare at the same time a list of class indices matching the samples:"
   ]
  },
  {
   "cell_type": "markdown",
   "metadata": {},
   "source": [
    "Then we can format our text samples and labels into tensors that can be fed into a neural network. To do this, we will rely on Keras utilities keras.preprocessing.text.Tokenizer and keras.preprocessing.sequence.pad_sequences."
   ]
  },
  {
   "cell_type": "code",
   "execution_count": 27,
   "metadata": {},
   "outputs": [
    {
     "name": "stdout",
     "output_type": "stream",
     "text": [
      "Loading data...\n"
     ]
    },
    {
     "name": "stdout",
     "output_type": "stream",
     "text": [
      "25000 train sequences\n25000 test sequences\nLoading word index...\n88584"
     ]
    },
    {
     "name": "stdout",
     "output_type": "stream",
     "text": [
      " vocabularies\nPad sequences (samples x time)\n"
     ]
    },
    {
     "name": "stdout",
     "output_type": "stream",
     "text": [
      "X_train shape: (25000, 80)\nX_test shape: (25000, 80)\n"
     ]
    }
   ],
   "source": [
    "from keras.preprocessing import sequence\n",
    "from keras.datasets import imdb\n",
    "\n",
    "max_features = 20000\n",
    "maxlen = 80  # cut texts after this number of words (among top max_features most common words)\n",
    "batch_size = 32\n",
    "\n",
    "print('Loading data...')\n",
    "(X_train, y_train), (X_test, y_test) = imdb.load_data(num_words=max_features)\n",
    "print(len(X_train), 'train sequences')\n",
    "print(len(X_test), 'test sequences')\n",
    "\n",
    "print('Loading word index...')\n",
    "word_index = imdb.get_word_index()\n",
    "print(len(word_index), 'vocabularies')\n",
    "\n",
    "print('Pad sequences (samples x time)')\n",
    "X_train = sequence.pad_sequences(X_train, maxlen=maxlen)\n",
    "X_test = sequence.pad_sequences(X_test, maxlen=maxlen)\n",
    "print('X_train shape:', X_train.shape)\n",
    "print('X_test shape:', X_test.shape)"
   ]
  },
  {
   "cell_type": "markdown",
   "metadata": {},
   "source": [
    "# Preparing the Embedding layer\n",
    "Next, we compute an index mapping words to known embeddings, by parsing the data dump of pre-trained embeddings:"
   ]
  },
  {
   "cell_type": "code",
   "execution_count": 14,
   "metadata": {},
   "outputs": [],
   "source": [
    "import numpy as np\n",
    "\n",
    "\n",
    "def prepare_embeddings_index(file_path):\n",
    "    \"\"\"\n",
    "    :param file_path: word vector's file path \n",
    "    :return embeddings_index: pre-trained word vectors\n",
    "    embeddings_index = {'word1': [real numbers],\n",
    "                        'word2': [real numbers],\n",
    "                        ...,\n",
    "                        'wordn': [real numbers]}\n",
    "    \"\"\"\n",
    "    embeddings_index = {}\n",
    "    embedding_dim = None\n",
    "    with open(file_path) as f:\n",
    "        for line in f:\n",
    "            values = line.split()\n",
    "            word = values[0]\n",
    "            coefs = np.asarray(values[1:], dtype='float32')\n",
    "            embeddings_index[word] = coefs\n",
    "            embedding_dim = len(coefs)\n",
    "    \n",
    "    print('Found %s word vectors.' % len(embeddings_index))\n",
    "    return embeddings_index, embedding_dim"
   ]
  },
  {
   "cell_type": "markdown",
   "metadata": {},
   "source": [
    ""
   ]
  },
  {
   "cell_type": "code",
   "execution_count": 31,
   "metadata": {},
   "outputs": [],
   "source": [
    "def create_embedding_matrix(embeddings_index, word_index, embedding_dim):\n",
    "    #embedding_matrix = np.zeros((len(word_index) + 1, embedding_dim))\n",
    "    embedding_matrix = np.zeros((max_features + 1, embedding_dim))\n",
    "    for word, i in word_index.items():\n",
    "        if i > max_features:\n",
    "            continue\n",
    "        embedding_vector = embeddings_index.get(word)\n",
    "        if embedding_vector is not None:\n",
    "            # words not found in embedding index will be all-zeros.\n",
    "            embedding_matrix[i] = embedding_vector\n",
    "    return embedding_matrix"
   ]
  },
  {
   "cell_type": "markdown",
   "metadata": {},
   "source": [
    ""
   ]
  },
  {
   "cell_type": "code",
   "execution_count": null,
   "metadata": {},
   "outputs": [],
   "source": [
    "from keras.layers import Embedding\n",
    "\n",
    "embedding_layer = Embedding(len(word_index) + 1,\n",
    "                            EMBEDDING_DIM,\n",
    "                            weights=[embedding_matrix],\n",
    "                            input_length=MAX_SEQUENCE_LENGTH,\n",
    "                            trainable=False)"
   ]
  },
  {
   "cell_type": "markdown",
   "metadata": {},
   "source": [
    "# Building the Classifier"
   ]
  },
  {
   "cell_type": "code",
   "execution_count": 44,
   "metadata": {},
   "outputs": [],
   "source": [
    "from keras.models import Sequential\n",
    "from keras.layers import Dense, Activation, Embedding\n",
    "from keras.layers import LSTM\n",
    "\n",
    "\n",
    "def build_model(embedding_matrix, embedding_dim):\n",
    "    print('Build model...')\n",
    "    model = Sequential()\n",
    "    model.add(Embedding(max_features + 1, output_dim=embedding_dim, weights=[embedding_matrix]))\n",
    "    model.add(LSTM(128, dropout=0.2, recurrent_dropout=0.2))  # try using a GRU instead, for fun\n",
    "    model.add(Dense(1))\n",
    "    model.add(Activation('sigmoid'))\n",
    "    model.compile(loss='binary_crossentropy', optimizer='adam', metrics=['accuracy'])\n",
    "    return model"
   ]
  },
  {
   "cell_type": "markdown",
   "metadata": {},
   "source": [
    "# Training the model"
   ]
  },
  {
   "cell_type": "code",
   "execution_count": 45,
   "metadata": {},
   "outputs": [
    {
     "name": "stdout",
     "output_type": "stream",
     "text": [
      "Found 71291 word vectors.\nBuild model...\n"
     ]
    },
    {
     "name": "stdout",
     "output_type": "stream",
     "text": [
      "Train...\n"
     ]
    },
    {
     "name": "stdout",
     "output_type": "stream",
     "text": [
      "Train on 25000 samples, validate on 25000 samples\nEpoch 1/15\n"
     ]
    },
    {
     "name": "stdout",
     "output_type": "stream",
     "text": [
      "408s - loss: 0.5422 - acc: 0.7114 - val_loss: 0.4232 - val_acc: 0.7986\nEpoch 2/15\n"
     ]
    },
    {
     "name": "stdout",
     "output_type": "stream",
     "text": [
      "397s - loss: 0.3075 - acc: 0.8700 - val_loss: 0.3503 - val_acc: 0.8458\nEpoch 3/15\n"
     ]
    },
    {
     "name": "stdout",
     "output_type": "stream",
     "text": [
      "382s - loss: 0.1956 - acc: 0.9238 - val_loss: 0.4085 - val_acc: 0.8400\nEpoch 4/15\n"
     ]
    },
    {
     "name": "stdout",
     "output_type": "stream",
     "text": [
      "400s - loss: 0.1193 - acc: 0.9573 - val_loss: 0.4820 - val_acc: 0.8346\nEpoch 5/15\n"
     ]
    },
    {
     "name": "stdout",
     "output_type": "stream",
     "text": [
      "381s - loss: 0.0667 - acc: 0.9774 - val_loss: 0.6047 - val_acc: 0.8270\nEpoch 6/15\n"
     ]
    },
    {
     "name": "stdout",
     "output_type": "stream",
     "text": [
      "350s - loss: 0.0423 - acc: 0.9855 - val_loss: 0.7742 - val_acc: 0.8163\nEpoch 7/15\n"
     ]
    },
    {
     "name": "stdout",
     "output_type": "stream",
     "text": [
      "352s - loss: 0.0256 - acc: 0.9918 - val_loss: 0.8308 - val_acc: 0.8177\nEpoch 8/15\n"
     ]
    },
    {
     "name": "stdout",
     "output_type": "stream",
     "text": [
      "350s - loss: 0.0159 - acc: 0.9955 - val_loss: 0.9854 - val_acc: 0.8166\nEpoch 9/15\n"
     ]
    },
    {
     "name": "stdout",
     "output_type": "stream",
     "text": [
      "347s - loss: 0.0112 - acc: 0.9961 - val_loss: 1.1043 - val_acc: 0.8085\nEpoch 10/15\n"
     ]
    },
    {
     "name": "stdout",
     "output_type": "stream",
     "text": [
      "348s - loss: 0.0085 - acc: 0.9972 - val_loss: 1.1034 - val_acc: 0.8073\nEpoch 11/15\n"
     ]
    },
    {
     "name": "stdout",
     "output_type": "stream",
     "text": [
      "350s - loss: 0.0076 - acc: 0.9976 - val_loss: 1.1354 - val_acc: 0.8075\nEpoch 12/15\n"
     ]
    },
    {
     "name": "stdout",
     "output_type": "stream",
     "text": [
      "359s - loss: 0.0067 - acc: 0.9978 - val_loss: 1.1329 - val_acc: 0.8102\nEpoch 13/15\n"
     ]
    },
    {
     "name": "stdout",
     "output_type": "stream",
     "text": [
      "348s - loss: 0.0045 - acc: 0.9986 - val_loss: 1.1958 - val_acc: 0.8068\nEpoch 14/15\n"
     ]
    },
    {
     "name": "stdout",
     "output_type": "stream",
     "text": [
      "347s - loss: 0.0048 - acc: 0.9983 - val_loss: 1.3128 - val_acc: 0.8078\nEpoch 15/15\n"
     ]
    },
    {
     "name": "stdout",
     "output_type": "stream",
     "text": [
      "347s - loss: 0.0031 - acc: 0.9988 - val_loss: 1.4517 - val_acc: 0.8100\n"
     ]
    },
    {
     "name": "stdout",
     "output_type": "stream",
     "text": [
      "Found 71291 word vectors.\nBuild model...\n"
     ]
    },
    {
     "name": "stdout",
     "output_type": "stream",
     "text": [
      "Train...\n"
     ]
    },
    {
     "name": "stdout",
     "output_type": "stream",
     "text": [
      "Train on 25000 samples, validate on 25000 samples\nEpoch 1/15\n"
     ]
    },
    {
     "name": "stdout",
     "output_type": "stream",
     "text": [
      "356s - loss: 0.5352 - acc: 0.7168 - val_loss: 0.3950 - val_acc: 0.8245\nEpoch 2/15\n"
     ]
    },
    {
     "name": "stdout",
     "output_type": "stream",
     "text": [
      "352s - loss: 0.3103 - acc: 0.8683 - val_loss: 0.4027 - val_acc: 0.8250\nEpoch 3/15\n"
     ]
    },
    {
     "name": "stdout",
     "output_type": "stream",
     "text": [
      "351s - loss: 0.1982 - acc: 0.9244 - val_loss: 0.3778 - val_acc: 0.8424\nEpoch 4/15\n"
     ]
    },
    {
     "name": "stdout",
     "output_type": "stream",
     "text": [
      "353s - loss: 0.1218 - acc: 0.9560 - val_loss: 0.4726 - val_acc: 0.8333\nEpoch 5/15\n"
     ]
    },
    {
     "name": "stdout",
     "output_type": "stream",
     "text": [
      "351s - loss: 0.0687 - acc: 0.9762 - val_loss: 0.6170 - val_acc: 0.8195\nEpoch 6/15\n"
     ]
    },
    {
     "name": "stdout",
     "output_type": "stream",
     "text": [
      "352s - loss: 0.0378 - acc: 0.9873 - val_loss: 0.7633 - val_acc: 0.8213\nEpoch 7/15\n"
     ]
    },
    {
     "name": "stdout",
     "output_type": "stream",
     "text": [
      "364s - loss: 0.0250 - acc: 0.9917 - val_loss: 0.8099 - val_acc: 0.8142\nEpoch 8/15\n"
     ]
    },
    {
     "name": "stdout",
     "output_type": "stream",
     "text": [
      "352s - loss: 0.0163 - acc: 0.9948 - val_loss: 0.9062 - val_acc: 0.8177\nEpoch 9/15\n"
     ]
    },
    {
     "name": "stdout",
     "output_type": "stream",
     "text": [
      "353s - loss: 0.0110 - acc: 0.9966 - val_loss: 1.1024 - val_acc: 0.8168\nEpoch 10/15\n"
     ]
    },
    {
     "name": "stdout",
     "output_type": "stream",
     "text": [
      "351s - loss: 0.0094 - acc: 0.9968 - val_loss: 1.1238 - val_acc: 0.8130\nEpoch 11/15\n"
     ]
    },
    {
     "name": "stdout",
     "output_type": "stream",
     "text": [
      "351s - loss: 0.0064 - acc: 0.9981 - val_loss: 1.3100 - val_acc: 0.8121\nEpoch 12/15\n"
     ]
    },
    {
     "name": "stdout",
     "output_type": "stream",
     "text": [
      "351s - loss: 0.0055 - acc: 0.9982 - val_loss: 1.2339 - val_acc: 0.8119\nEpoch 13/15\n"
     ]
    },
    {
     "name": "stdout",
     "output_type": "stream",
     "text": [
      "352s - loss: 0.0053 - acc: 0.9984 - val_loss: 1.2449 - val_acc: 0.8106\nEpoch 14/15\n"
     ]
    },
    {
     "name": "stdout",
     "output_type": "stream",
     "text": [
      "351s - loss: 0.0031 - acc: 0.9993 - val_loss: 1.3267 - val_acc: 0.8121\nEpoch 15/15\n"
     ]
    },
    {
     "name": "stdout",
     "output_type": "stream",
     "text": [
      "353s - loss: 0.0024 - acc: 0.9992 - val_loss: 1.4933 - val_acc: 0.8143\n"
     ]
    },
    {
     "name": "stdout",
     "output_type": "stream",
     "text": [
      "Found 71291 word vectors.\nBuild model...\n"
     ]
    },
    {
     "name": "stdout",
     "output_type": "stream",
     "text": [
      "Train...\n"
     ]
    },
    {
     "name": "stdout",
     "output_type": "stream",
     "text": [
      "Train on 25000 samples, validate on 25000 samples\nEpoch 1/15\n"
     ]
    },
    {
     "name": "stdout",
     "output_type": "stream",
     "text": [
      "349s - loss: 0.5297 - acc: 0.7228 - val_loss: 0.4265 - val_acc: 0.8012\nEpoch 2/15\n"
     ]
    },
    {
     "name": "stdout",
     "output_type": "stream",
     "text": [
      "364s - loss: 0.3074 - acc: 0.8712 - val_loss: 0.3482 - val_acc: 0.8434\nEpoch 3/15\n"
     ]
    },
    {
     "name": "stdout",
     "output_type": "stream",
     "text": [
      "349s - loss: 0.2053 - acc: 0.9204 - val_loss: 0.3621 - val_acc: 0.8398\nEpoch 4/15\n"
     ]
    },
    {
     "name": "stdout",
     "output_type": "stream",
     "text": [
      "346s - loss: 0.1260 - acc: 0.9543 - val_loss: 0.4884 - val_acc: 0.8314\nEpoch 5/15\n"
     ]
    },
    {
     "name": "stdout",
     "output_type": "stream",
     "text": [
      "347s - loss: 0.0728 - acc: 0.9755 - val_loss: 0.6033 - val_acc: 0.8209\nEpoch 6/15\n"
     ]
    },
    {
     "name": "stdout",
     "output_type": "stream",
     "text": [
      "347s - loss: 0.0448 - acc: 0.9858 - val_loss: 0.6776 - val_acc: 0.8240\nEpoch 7/15\n"
     ]
    },
    {
     "name": "stdout",
     "output_type": "stream",
     "text": [
      "346s - loss: 0.0275 - acc: 0.9910 - val_loss: 0.8362 - val_acc: 0.8194\nEpoch 8/15\n"
     ]
    },
    {
     "name": "stdout",
     "output_type": "stream",
     "text": [
      "347s - loss: 0.0180 - acc: 0.9945 - val_loss: 0.8720 - val_acc: 0.8169\nEpoch 9/15\n"
     ]
    },
    {
     "name": "stdout",
     "output_type": "stream",
     "text": [
      "347s - loss: 0.0136 - acc: 0.9958 - val_loss: 0.9363 - val_acc: 0.8157\nEpoch 10/15\n"
     ]
    },
    {
     "name": "stdout",
     "output_type": "stream",
     "text": [
      "347s - loss: 0.0100 - acc: 0.9970 - val_loss: 1.0059 - val_acc: 0.8148\nEpoch 11/15\n"
     ]
    },
    {
     "name": "stdout",
     "output_type": "stream",
     "text": [
      "348s - loss: 0.0085 - acc: 0.9974 - val_loss: 1.1550 - val_acc: 0.8151\nEpoch 12/15\n"
     ]
    },
    {
     "name": "stdout",
     "output_type": "stream",
     "text": [
      "347s - loss: 0.0053 - acc: 0.9983 - val_loss: 1.2865 - val_acc: 0.8156\nEpoch 13/15\n"
     ]
    },
    {
     "name": "stdout",
     "output_type": "stream",
     "text": [
      "359s - loss: 0.0042 - acc: 0.9988 - val_loss: 1.3132 - val_acc: 0.8085\nEpoch 14/15\n"
     ]
    },
    {
     "name": "stdout",
     "output_type": "stream",
     "text": [
      "346s - loss: 0.0070 - acc: 0.9976 - val_loss: 1.2712 - val_acc: 0.8064\nEpoch 15/15\n"
     ]
    },
    {
     "name": "stdout",
     "output_type": "stream",
     "text": [
      "347s - loss: 0.0037 - acc: 0.9989 - val_loss: 1.3233 - val_acc: 0.8149\n"
     ]
    },
    {
     "name": "stdout",
     "output_type": "stream",
     "text": [
      "Found 71291 word vectors.\nBuild model...\n"
     ]
    },
    {
     "name": "stdout",
     "output_type": "stream",
     "text": [
      "Train...\n"
     ]
    },
    {
     "name": "stdout",
     "output_type": "stream",
     "text": [
      "Train on 25000 samples, validate on 25000 samples\nEpoch 1/15\n"
     ]
    },
    {
     "name": "stdout",
     "output_type": "stream",
     "text": [
      "352s - loss: 0.5356 - acc: 0.7181 - val_loss: 0.4240 - val_acc: 0.8037\nEpoch 2/15\n"
     ]
    },
    {
     "name": "stdout",
     "output_type": "stream",
     "text": [
      "345s - loss: 0.3169 - acc: 0.8664 - val_loss: 0.3465 - val_acc: 0.8493\nEpoch 3/15\n"
     ]
    },
    {
     "name": "stdout",
     "output_type": "stream",
     "text": [
      "346s - loss: 0.2070 - acc: 0.9196 - val_loss: 0.4196 - val_acc: 0.8354\nEpoch 4/15\n"
     ]
    },
    {
     "name": "stdout",
     "output_type": "stream",
     "text": [
      "345s - loss: 0.1302 - acc: 0.9532 - val_loss: 0.4526 - val_acc: 0.8316\nEpoch 5/15\n"
     ]
    },
    {
     "name": "stdout",
     "output_type": "stream",
     "text": [
      "346s - loss: 0.0752 - acc: 0.9741 - val_loss: 0.5945 - val_acc: 0.8214\nEpoch 6/15\n"
     ]
    },
    {
     "name": "stdout",
     "output_type": "stream",
     "text": [
      "345s - loss: 0.0437 - acc: 0.9858 - val_loss: 0.6866 - val_acc: 0.8231\nEpoch 7/15\n"
     ]
    },
    {
     "name": "stdout",
     "output_type": "stream",
     "text": [
      "345s - loss: 0.0275 - acc: 0.9909 - val_loss: 0.8483 - val_acc: 0.8179\nEpoch 8/15\n"
     ]
    },
    {
     "name": "stdout",
     "output_type": "stream",
     "text": [
      "358s - loss: 0.0214 - acc: 0.9936 - val_loss: 0.9130 - val_acc: 0.8190\nEpoch 9/15\n"
     ]
    },
    {
     "name": "stdout",
     "output_type": "stream",
     "text": [
      "346s - loss: 0.0140 - acc: 0.9961 - val_loss: 0.9454 - val_acc: 0.8198\nEpoch 10/15\n"
     ]
    },
    {
     "name": "stdout",
     "output_type": "stream",
     "text": [
      "347s - loss: 0.0101 - acc: 0.9967 - val_loss: 1.0090 - val_acc: 0.8210\nEpoch 11/15\n"
     ]
    },
    {
     "name": "stdout",
     "output_type": "stream",
     "text": [
      "346s - loss: 0.0090 - acc: 0.9972 - val_loss: 1.1599 - val_acc: 0.8122\nEpoch 12/15\n"
     ]
    },
    {
     "name": "stdout",
     "output_type": "stream",
     "text": [
      "346s - loss: 0.0052 - acc: 0.9980 - val_loss: 1.2382 - val_acc: 0.8156\nEpoch 13/15\n"
     ]
    },
    {
     "name": "stdout",
     "output_type": "stream",
     "text": [
      "346s - loss: 0.0064 - acc: 0.9981 - val_loss: 1.1135 - val_acc: 0.8140\nEpoch 14/15\n"
     ]
    },
    {
     "name": "stdout",
     "output_type": "stream",
     "text": [
      "345s - loss: 0.0058 - acc: 0.9984 - val_loss: 1.2722 - val_acc: 0.8131\nEpoch 15/15\n"
     ]
    },
    {
     "name": "stdout",
     "output_type": "stream",
     "text": [
      "347s - loss: 0.0042 - acc: 0.9986 - val_loss: 1.2518 - val_acc: 0.8090\n"
     ]
    },
    {
     "name": "stdout",
     "output_type": "stream",
     "text": [
      "Found 71291 word vectors.\nBuild model...\n"
     ]
    },
    {
     "name": "stdout",
     "output_type": "stream",
     "text": [
      "Train...\n"
     ]
    },
    {
     "name": "stdout",
     "output_type": "stream",
     "text": [
      "Train on 25000 samples, validate on 25000 samples\nEpoch 1/15\n"
     ]
    },
    {
     "name": "stdout",
     "output_type": "stream",
     "text": [
      "353s - loss: 0.5211 - acc: 0.7294 - val_loss: 0.4042 - val_acc: 0.8277\nEpoch 2/15\n"
     ]
    },
    {
     "name": "stdout",
     "output_type": "stream",
     "text": [
      "350s - loss: 0.3152 - acc: 0.8678 - val_loss: 0.3548 - val_acc: 0.8420\nEpoch 3/15\n"
     ]
    },
    {
     "name": "stdout",
     "output_type": "stream",
     "text": [
      "370s - loss: 0.2054 - acc: 0.9212 - val_loss: 0.4173 - val_acc: 0.8333\nEpoch 4/15\n"
     ]
    },
    {
     "name": "stdout",
     "output_type": "stream",
     "text": [
      "350s - loss: 0.1280 - acc: 0.9534 - val_loss: 0.4765 - val_acc: 0.8294\nEpoch 5/15\n"
     ]
    },
    {
     "name": "stdout",
     "output_type": "stream",
     "text": [
      "350s - loss: 0.0747 - acc: 0.9743 - val_loss: 0.5825 - val_acc: 0.8258\nEpoch 6/15\n"
     ]
    },
    {
     "name": "stdout",
     "output_type": "stream",
     "text": [
      "352s - loss: 0.0449 - acc: 0.9844 - val_loss: 0.7973 - val_acc: 0.8182\nEpoch 7/15\n"
     ]
    },
    {
     "name": "stdout",
     "output_type": "stream",
     "text": [
      "350s - loss: 0.0245 - acc: 0.9921 - val_loss: 0.8499 - val_acc: 0.8190\nEpoch 8/15\n"
     ]
    },
    {
     "name": "stdout",
     "output_type": "stream",
     "text": [
      "350s - loss: 0.0180 - acc: 0.9944 - val_loss: 0.9635 - val_acc: 0.8145\nEpoch 9/15\n"
     ]
    },
    {
     "name": "stdout",
     "output_type": "stream",
     "text": [
      "350s - loss: 0.0125 - acc: 0.9966 - val_loss: 1.1059 - val_acc: 0.8185\nEpoch 10/15\n"
     ]
    },
    {
     "name": "stdout",
     "output_type": "stream",
     "text": [
      "351s - loss: 0.0102 - acc: 0.9963 - val_loss: 1.0571 - val_acc: 0.8150\nEpoch 11/15\n"
     ]
    },
    {
     "name": "stdout",
     "output_type": "stream",
     "text": [
      "350s - loss: 0.0099 - acc: 0.9969 - val_loss: 1.0845 - val_acc: 0.8130\nEpoch 12/15\n"
     ]
    },
    {
     "name": "stdout",
     "output_type": "stream",
     "text": [
      "351s - loss: 0.0067 - acc: 0.9980 - val_loss: 1.2109 - val_acc: 0.8100\nEpoch 13/15\n"
     ]
    },
    {
     "name": "stdout",
     "output_type": "stream",
     "text": [
      "359s - loss: 0.0055 - acc: 0.9982 - val_loss: 1.2109 - val_acc: 0.8121\nEpoch 14/15\n"
     ]
    },
    {
     "name": "stdout",
     "output_type": "stream",
     "text": [
      "351s - loss: 0.0046 - acc: 0.9987 - val_loss: 1.2434 - val_acc: 0.8116\nEpoch 15/15\n"
     ]
    },
    {
     "name": "stdout",
     "output_type": "stream",
     "text": [
      "351s - loss: 0.0055 - acc: 0.9984 - val_loss: 1.2726 - val_acc: 0.8105\n"
     ]
    }
   ],
   "source": [
    "models = {}\n",
    "for window_size in sorted(model_names.keys()):\n",
    "    model_name = model_names[window_size]\n",
    "    embeddings_index, embedding_dim = prepare_embeddings_index(model_name)\n",
    "    embedding_matrix = create_embedding_matrix(embeddings_index, word_index, embedding_dim)\n",
    "    model = build_model(embedding_matrix, embedding_dim)\n",
    "    print('Train...')\n",
    "    model.fit(X_train, y_train, batch_size=batch_size, epochs=15, validation_data=(X_test, y_test), verbose=2)\n",
    "    file_name = 'model.ws{}.h5'.format(window_size)\n",
    "    models[window_size] = file_name\n",
    "    model.save(file_name)"
   ]
  },
  {
   "cell_type": "markdown",
   "metadata": {},
   "source": [
    "# Evaluation\n",
    "## Evaluation of Classifier"
   ]
  },
  {
   "cell_type": "code",
   "execution_count": 53,
   "metadata": {},
   "outputs": [
    {
     "name": "stdout",
     "output_type": "stream",
     "text": [
      "Test score: 1.45166337306\nTest accuracy: 0.81\n"
     ]
    },
    {
     "name": "stdout",
     "output_type": "stream",
     "text": [
      "Test score: 1.49326546386\nTest accuracy: 0.81432\n"
     ]
    },
    {
     "name": "stdout",
     "output_type": "stream",
     "text": [
      "Test score: 1.32333767938\nTest accuracy: 0.81492\n"
     ]
    },
    {
     "name": "stdout",
     "output_type": "stream",
     "text": [
      "Test score: 1.25181883136\nTest accuracy: 0.80896\n"
     ]
    },
    {
     "name": "stdout",
     "output_type": "stream",
     "text": [
      "Test score: 1.27263815701\nTest accuracy: 0.81052\n"
     ]
    }
   ],
   "source": [
    "from keras.models import load_model\n",
    "\n",
    "accuracies = []\n",
    "for window_size in window_sizes:\n",
    "    file_name = models[window_size]\n",
    "    model = load_model(file_name)\n",
    "    score, acc = model.evaluate(X_test, y_test, batch_size=batch_size, verbose=2)\n",
    "    accuracies.append(acc)\n",
    "    print('Test score:', score)\n",
    "    print('Test accuracy:', acc)"
   ]
  },
  {
   "cell_type": "markdown",
   "metadata": {},
   "source": [
    "## Evaluation of Word Embeddings"
   ]
  },
  {
   "cell_type": "code",
   "execution_count": 57,
   "metadata": {
    "collapsed": false
   },
   "outputs": [
    {
     "name": "stdout",
     "output_type": "stream",
     "text": [
      "0.292760902576\n"
     ]
    },
    {
     "name": "stdout",
     "output_type": "stream",
     "text": [
      "0.310061952976\n"
     ]
    },
    {
     "name": "stdout",
     "output_type": "stream",
     "text": [
      "0.325393257579\n"
     ]
    },
    {
     "name": "stdout",
     "output_type": "stream",
     "text": [
      "0.323752469637\n"
     ]
    },
    {
     "name": "stdout",
     "output_type": "stream",
     "text": [
      "0.315730612279\n"
     ]
    }
   ],
   "source": [
    "import gensim.test\n",
    "from gensim.models import KeyedVectors\n",
    "module_path = gensim.test.__path__[0]\n",
    "spearmans = []\n",
    "for window_size in window_sizes:\n",
    "    model_name = model_names[window_size]\n",
    "    word_vectors = KeyedVectors.load_word2vec_format(model_name)\n",
    "    _, spearman, _ = word_vectors.evaluate_word_pairs(os.path.join(module_path, 'test_data', 'simlex999.txt'))\n",
    "    spearmans.append(spearman.correlation)\n",
    "    print(spearman.correlation)"
   ]
  },
  {
   "cell_type": "markdown",
   "metadata": {},
   "source": [
    "## Plotting the evaluation result"
   ]
  },
  {
   "cell_type": "code",
   "execution_count": 58,
   "metadata": {
    "collapsed": false
   },
   "outputs": [
    {
     "data": {
      "image/png": "[encoded data removed]",
      "text/plain": [
       "<matplotlib.figure.Figure at 0x261ac7240>"
      ]
     },
     "metadata": {},
     "output_type": "display_data"
    }
   ],
   "source": [
    "%matplotlib inline\n",
    "import matplotlib.pyplot as plt\n",
    "\n",
    "plt.plot(window_sizes, spearmans, marker='o')\n",
    "plt.xlabel('Window Size')\n",
    "plt.ylabel('Spearman\\'s Correlation')\n",
    "\n",
    "plt.tight_layout()\n",
    "plt.show()"
   ]
  },
  {
   "cell_type": "code",
   "execution_count": 60,
   "metadata": {},
   "outputs": [
    {
     "data": {
      "image/png": "[encoded data removed]",
      "text/plain": [
       "<matplotlib.figure.Figure at 0x25b35e400>"
      ]
     },
     "metadata": {},
     "output_type": "display_data"
    }
   ],
   "source": [
    "%matplotlib inline\n",
    "import matplotlib.pyplot as plt\n",
    "accuracies1 = [0.1735, 0.1735, 0.2091, 0.1453, 0.1560]\n",
    "plt.plot(window_sizes, accuracies, marker='x')\n",
    "plt.xlabel('Window Size')\n",
    "plt.ylabel('Accuracy')\n",
    "\n",
    "plt.tight_layout()\n",
    "plt.show()"
   ]
  },
  {
   "cell_type": "markdown",
   "metadata": {},
   "source": [
    "# Result"
   ]
  },
  {
   "cell_type": "markdown",
   "metadata": {},
   "source": [
    ""
   ]
  }
 ],
 "metadata": {
  "kernelspec": {
   "display_name": "Python 2",
   "language": "python",
   "name": "python2"
  },
  "language_info": {
   "codemirror_mode": {
    "name": "ipython",
    "version": 2.0
   },
   "file_extension": ".py",
   "mimetype": "text/x-python",
   "name": "python",
   "nbconvert_exporter": "python",
   "pygments_lexer": "ipython2",
   "version": "2.7.6"
  }
 },
 "nbformat": 4,
 "nbformat_minor": 0
}